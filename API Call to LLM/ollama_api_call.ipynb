{
 "cells": [
  {
   "cell_type": "markdown",
   "id": "47b73cd9",
   "metadata": {},
   "source": [
    "Ollama Python Library: https://github.com/ollama/ollama-python"
   ]
  },
  {
   "cell_type": "code",
   "execution_count": 1,
   "id": "2053add2",
   "metadata": {},
   "outputs": [
    {
     "name": "stdout",
     "output_type": "stream",
     "text": [
      "NAME         ID              SIZE      MODIFIED       \n",
      "gemma3:1b    8648f39daa8f    815 MB    14 minutes ago    \n"
     ]
    }
   ],
   "source": [
    "!ollama list"
   ]
  },
  {
   "cell_type": "code",
   "execution_count": 5,
   "id": "51117edd",
   "metadata": {},
   "outputs": [
    {
     "name": "stdout",
     "output_type": "stream",
     "text": [
      "The sky is blue due to a phenomenon called **Rayleigh scattering**. Here's a breakdown of why it happens:\n",
      "\n",
      "* **Sunlight is Made of Colors:** Sunlight actually contains all the colors of the rainbow.\n",
      "\n",
      "* **Entering the Atmosphere:** When sunlight enters the Earth's atmosphere, it bumps into tiny air molecules (mostly nitrogen and oxygen).\n",
      "\n",
      "* **Scattering of Light:** This bumping causes the sunlight to scatter in different directions.  This is called scattering.\n",
      "\n",
      "* **Blue Light is Scattered More:**  Rayleigh scattering is more effective at shorter wavelengths of light. Blue and violet light have shorter wavelengths than other colors like red and orange. Because of this, blue light is scattered much more than other colors when it reaches our eyes.\n",
      "\n",
      "* **Why not Violet?** Violet light is scattered even *more* than blue light. However, our eyes are more sensitive to blue, and the sun emits slightly less violet light.  That's why we primarily see a blue sky.\n",
      "\n",
      "**Think of it like this:** Imagine throwing a bunch of small bouncy balls (blue light) and a bunch of larger, slower-moving balls (red light) at a trampoline. The smaller balls are more likely to bounce off in all directions, while the larger ones will mostly keep going straight.\n",
      "\n",
      "**Bonus:**  At sunrise and sunset, the sunlight has to travel through more of the atmosphere. This longer path scatters away most of the blue light, leaving the longer wavelengths like orange and red to dominate, resulting in those beautiful colors.\n",
      "\n",
      "---\n",
      "\n",
      "**In short, the sky is blue because of how tiny air molecules scatter blue light more than other colors.**\n",
      "\n",
      "Do you want to know more about:\n",
      "\n",
      "*   The science behind Rayleigh scattering?\n",
      "*   How the sun's color affects our perception of the sky?\n",
      "The sky is blue due to a phenomenon called **Rayleigh scattering**. Here's a breakdown of why it happens:\n",
      "\n",
      "* **Sunlight is Made of Colors:** Sunlight actually contains all the colors of the rainbow.\n",
      "\n",
      "* **Entering the Atmosphere:** When sunlight enters the Earth's atmosphere, it bumps into tiny air molecules (mostly nitrogen and oxygen).\n",
      "\n",
      "* **Scattering of Light:** This bumping causes the sunlight to scatter in different directions.  This is called scattering.\n",
      "\n",
      "* **Blue Light is Scattered More:**  Rayleigh scattering is more effective at shorter wavelengths of light. Blue and violet light have shorter wavelengths than other colors like red and orange. Because of this, blue light is scattered much more than other colors when it reaches our eyes.\n",
      "\n",
      "* **Why not Violet?** Violet light is scattered even *more* than blue light. However, our eyes are more sensitive to blue, and the sun emits slightly less violet light.  That's why we primarily see a blue sky.\n",
      "\n",
      "**Think of it like this:** Imagine throwing a bunch of small bouncy balls (blue light) and a bunch of larger, slower-moving balls (red light) at a trampoline. The smaller balls are more likely to bounce off in all directions, while the larger ones will mostly keep going straight.\n",
      "\n",
      "**Bonus:**  At sunrise and sunset, the sunlight has to travel through more of the atmosphere. This longer path scatters away most of the blue light, leaving the longer wavelengths like orange and red to dominate, resulting in those beautiful colors.\n",
      "\n",
      "---\n",
      "\n",
      "**In short, the sky is blue because of how tiny air molecules scatter blue light more than other colors.**\n",
      "\n",
      "Do you want to know more about:\n",
      "\n",
      "*   The science behind Rayleigh scattering?\n",
      "*   How the sun's color affects our perception of the sky?\n"
     ]
    }
   ],
   "source": [
    "from ollama import chat\n",
    "from ollama import ChatResponse\n",
    "\n",
    "response: ChatResponse = chat(model='gemma3:1b', messages=[\n",
    "  {\n",
    "    'role': 'user',\n",
    "    'content': 'Why is the sky blue?',\n",
    "  },\n",
    "])\n",
    "print(response['message']['content'])\n",
    "# or access fields directly from the response object\n",
    "print(response.message.content)"
   ]
  },
  {
   "cell_type": "markdown",
   "id": "1cca768d",
   "metadata": {},
   "source": [
    "## Running Ollama as a server "
   ]
  },
  {
   "cell_type": "code",
   "execution_count": 6,
   "id": "fb87dd17",
   "metadata": {},
   "outputs": [
    {
     "name": "stdout",
     "output_type": "stream",
     "text": [
      "curl 8.14.1 (Windows) libcurl/8.14.1 Schannel zlib/1.3.1 WinIDN\n",
      "Release-Date: 2025-06-09\n",
      "Protocols: dict file ftp ftps http https imap imaps ipfs ipns mqtt pop3 pop3s smb smbs smtp smtps telnet tftp ws wss\n",
      "Features: alt-svc AsynchDNS HSTS HTTPS-proxy IDN IPv6 Kerberos Largefile libz NTLM SPNEGO SSL SSPI threadsafe Unicode UnixSockets\n"
     ]
    }
   ],
   "source": [
    "!curl --version"
   ]
  },
  {
   "cell_type": "code",
   "execution_count": 2,
   "id": "9566c58f",
   "metadata": {},
   "outputs": [
    {
     "name": "stdout",
     "output_type": "stream",
     "text": [
      "{\"model\":\"gemma3:1b\",\"created_at\":\"2025-09-19T21:34:08.2921403Z\",\"response\":\"The sky appears blue thanks to a phenomenon called **Rayleigh scattering**. Here’s a breakdown of how it works:\\n\\n* **Sunlight is made of all colors:** White sunlight actually is a mix of all the colors of the rainbow.\\n\\n* **Sunlight enters the Earth's atmosphere:** As sunlight passes through the atmosphere, it collides with tiny air molecules (mostly nitrogen and oxygen).\\n\\n* **Rayleigh scattering happens:** This collision causes the sunlight to scatter in different directions.  Rayleigh scattering is *much* more effective at shorter wavelengths of light – blues and violets – than longer wavelengths like reds and oranges.\\n\\n* **Why blue dominates:** Think of it like this:  blue light is easily bounced around in all directions by the air molecules. Because it scatters more, it spreads across the sky.  That's why we see blue everywhere!\\n\\n**What about sunsets?**\\n\\nDuring sunrise and sunset, the sun is lower on the horizon. Sunlight has to travel through *more* of the atmosphere to reach your eyes. This longer path means that most of the blue light is scattered away, leaving the longer wavelengths of orange and red to dominate the sky.\\n\\n**In short, it's the small air molecules in the atmosphere scattering the blue light more than other colors.**\\n\\n**Want to learn more? Here are some resources:**\\n\\n* **NASA Explain:** [https://science.nasa.gov/sun/sky-blue/](https://science.nasa.gov/sun/sky-blue/)\\n* **Smithsonian Magazine:** [https://www.smithsonianmag.com/science/why-is-the-sky-blue-186773576/](https://www.smithsonianmag.com/science/why-is-the-sky-blue-186773576/)\\n\\nDo you have any other questions about the sky or light that you'd like me to answer?\",\"done\":true,\"done_reason\":\"stop\",\"context\":[105,2364,107,11355,563,506,7217,3730,236881,106,107,105,4368,107,818,7217,7412,3730,8863,531,496,20284,2760,5213,30958,53700,19389,84750,5715,236858,236751,496,25890,529,1217,625,4146,236787,108,236829,5213,18318,3223,563,1603,529,784,7913,53121,7286,26808,3643,563,496,6921,529,784,506,7913,529,506,30591,236761,108,236829,5213,18318,3223,28062,506,10824,236789,236751,11661,53121,1773,26808,16349,1343,506,11661,236764,625,3995,1949,607,16383,2634,13757,568,93424,19846,532,12123,769,108,236829,5213,30958,53700,19389,9439,53121,1174,20795,9454,506,26808,531,11887,528,1607,15232,236761,138,30958,53700,19389,563,808,58668,236829,919,5225,657,20532,57583,529,2214,1271,43406,532,81758,8524,1271,1082,4890,57583,1133,155771,532,71816,236761,108,236829,5213,11355,3730,71601,53121,27384,529,625,1133,672,236787,138,9503,2214,563,5583,95525,2101,528,784,15232,684,506,2634,13757,236761,8468,625,141891,1826,919,236764,625,52249,3418,506,7217,236761,138,6372,236789,236751,3217,692,1460,3730,17134,236888,108,1018,3689,1003,112089,236881,1018,108,14521,36597,532,14711,236764,506,3768,563,3718,580,506,25330,236761,146430,815,531,4301,1343,808,5576,236829,529,506,11661,531,5370,822,6114,236761,1174,4890,2479,2820,600,1346,529,506,3730,2214,563,29892,3121,236764,9542,506,4890,57583,529,11167,532,2604,531,41932,506,7217,236761,108,1018,902,2822,236764,625,236789,236751,506,1944,2634,13757,528,506,11661,19389,506,3730,2214,919,1082,1032,7913,99382,108,1018,46038,531,3449,919,236881,5715,659,1070,5405,53121,108,236829,5213,93015,42085,53121,870,2574,1411,33856,236761,147371,236761,12561,236786,16283,236786,16012,236772,9503,236786,5457,2574,1411,33856,236761,147371,236761,12561,236786,16283,236786,16012,236772,9503,31004,107,236829,5213,35501,79394,26194,53121,870,2574,1411,2769,236761,37540,79394,14789,236761,854,236786,33856,236786,36425,236772,511,236772,1437,236772,16012,236772,9503,236772,236770,236828,236825,236832,236832,236800,236810,236832,236825,236786,5457,2574,1411,2769,236761,37540,79394,14789,236761,854,236786,33856,236786,36425,236772,511,236772,1437,236772,16012,236772,9503,236772,236770,236828,236825,236832,236832,236800,236810,236832,236825,31004,108,6294,611,735,1027,1032,4137,1003,506,7217,653,2214,600,611,236789,236753,1133,786,531,3890,236881],\"total_duration\":7529270900,\"load_duration\":158333200,\"prompt_eval_count\":15,\"prompt_eval_duration\":176627600,\"eval_count\":410,\"eval_duration\":7193719800}\n"
     ]
    },
    {
     "name": "stderr",
     "output_type": "stream",
     "text": [
      "  % Total    % Received % Xferd  Average Speed   Time    Time     Time  Current\n",
      "                                 Dload  Upload   Total   Spent    Left  Speed\n",
      "\n",
      "  0     0    0     0    0     0      0      0 --:--:-- --:--:-- --:--:--     0\n",
      "100    73    0     0  100    73      0     60  0:00:01  0:00:01 --:--:--    60\n",
      "100    73    0     0  100    73      0     32  0:00:02  0:00:02 --:--:--    32\n",
      "100    73    0     0  100    73      0     22  0:00:03  0:00:03 --:--:--    22\n",
      "100    73    0     0  100    73      0     17  0:00:04  0:00:04 --:--:--    17\n",
      "100    73    0     0  100    73      0     13  0:00:05  0:00:05 --:--:--    13\n",
      "100    73    0     0  100    73      0     11  0:00:06  0:00:06 --:--:--     0\n",
      "100    73    0     0  100    73      0     10  0:00:07  0:00:07 --:--:--     0\n",
      "100  4325    0  4252  100    73    549      9  0:00:08  0:00:07  0:00:01   942\n"
     ]
    }
   ],
   "source": [
    "!curl http://localhost:11434/api/generate -d \"{\\\"model\\\": \\\"gemma3:1b\\\", \\\"prompt\\\": \\\"Why is the sky blue?\\\", \\\"stream\\\": false}\"\n"
   ]
  },
  {
   "cell_type": "markdown",
   "id": "5f2ccf52",
   "metadata": {},
   "source": [
    "-s = silent → only prints the JSON response, no curl transfer stats."
   ]
  },
  {
   "cell_type": "code",
   "execution_count": 10,
   "id": "63aa3ce5",
   "metadata": {},
   "outputs": [
    {
     "name": "stdout",
     "output_type": "stream",
     "text": [
      "{\"model\":\"gemma3:1b\",\"created_at\":\"2025-09-19T21:44:21.5942983Z\",\"response\":\"The sky is blue due to a phenomenon called **Rayleigh scattering**. Here’s a breakdown of how it works:\\n\\n**1. Sunlight is Full of Colors:**\\n\\n* Sunlight, which appears white to us, is actually made up of all the colors of the rainbow – red, orange, yellow, green, blue, indigo, and violet.\\n\\n**2. Entering the Atmosphere:**\\n\\n* As sunlight enters the Earth's atmosphere, it collides with tiny air molecules (mostly nitrogen and oxygen).\\n\\n**3. Rayleigh Scattering:**\\n\\n* This collision causes the sunlight to scatter in different directions. This is *Rayleigh scattering*.  It's the *same* principle that makes the sun appear reddish at sunset!\\n* **Shorter wavelengths scatter more:** Rayleigh scattering is much more effective at scattering shorter wavelengths of light, like blue and violet.  Red and orange wavelengths are less affected.\\n\\n\\n**4. Why We See Blue:**\\n\\n* Because blue light is scattered more, it's dispersed throughout the atmosphere, making the sky appear blue to our eyes. \\n\\n**Think of it like this:** Imagine throwing a handful of marbles (blue light) and pebbles (red light) at a bumpy surface. The marbles bounce around more easily, while the pebbles keep going straight.\\n\\n\\n**Why isn't the sky violet?**\\n\\nViolet light is scattered even *more* than blue light. However, the sun emits slightly less violet light than blue light, and our eyes are also more sensitive to blue.  That's why we primarily see blue.\\n\\n\\n**In short, the sky is blue because the atmosphere scatters blue light from the sun more than other colors.**\\n\\n---\\n\\n**Want to learn more?**\\n\\n*   **NASA's Sky \\u0026 Space website:** [https://skyandspace.nasanationalpark.org/](https://skyandspace.nasanationalpark.org/) – A great resource with interactive explanations and visualizations.\\n*   **YouTube:** Search for \\\"why is the sky blue\\\" – there are many excellent educational videos available.\",\"done\":true,\"done_reason\":\"stop\",\"context\":[105,2364,107,11355,563,506,7217,3730,236881,106,107,105,4368,107,818,7217,563,3730,2779,531,496,20284,2760,5213,30958,53700,19389,84750,5715,236858,236751,496,25890,529,1217,625,4146,236787,108,1018,236770,236761,146430,563,10456,529,19870,53121,108,236829,146430,236764,837,7412,2173,531,775,236764,563,3643,1603,872,529,784,506,7913,529,506,30591,1271,2604,236764,11167,236764,7070,236764,3826,236764,3730,236764,108355,236764,532,39261,236761,108,1018,236778,236761,133538,506,152418,53121,108,236829,1773,26808,28062,506,10824,236789,236751,11661,236764,625,3995,1949,607,16383,2634,13757,568,93424,19846,532,12123,769,108,1018,236800,236761,121707,178868,53121,108,236829,1174,20795,9454,506,26808,531,11887,528,1607,15232,236761,1174,563,808,30958,53700,19389,22429,138,1509,236789,236751,506,808,31159,236829,11441,600,3590,506,3768,3196,73865,657,14711,236888,107,236829,5213,236773,1818,589,57583,11887,919,53121,121707,19389,563,1623,919,5225,657,19389,20532,57583,529,2214,236764,1133,3730,532,39261,236761,138,9264,532,11167,57583,659,2344,9034,236761,109,1018,236812,236761,8922,1191,5912,9595,53121,108,236829,8468,3730,2214,563,29892,919,236764,625,236789,236751,56862,5459,506,11661,236764,3043,506,7217,3196,3730,531,1023,6114,236761,236743,108,1018,51836,529,625,1133,672,53121,47302,27553,496,32424,529,147437,568,9503,2214,236768,532,104567,568,1192,2214,236768,657,496,167805,3761,236761,669,147437,43238,2101,919,5583,236764,1651,506,104567,2514,1771,6850,236761,109,1018,11355,5889,236789,236745,506,7217,39261,236881,1018,108,132274,2214,563,29892,1581,808,5576,236829,1082,3730,2214,236761,3153,236764,506,3768,80375,8427,2344,39261,2214,1082,3730,2214,236764,532,1023,6114,659,992,919,13719,531,3730,236761,138,6372,236789,236751,3217,692,13336,1460,3730,236761,109,1018,902,2822,236764,506,7217,563,3730,1547,506,11661,141891,1826,3730,2214,699,506,3768,919,1082,1032,7913,99382,108,7243,108,1018,46038,531,3449,919,236881,1018,108,236829,139,1018,93015,236789,236751,17488,833,13510,4456,53121,870,2574,1411,16012,624,5780,236761,236749,14592,1353,26567,236761,2187,236786,5457,2574,1411,16012,624,5780,236761,236749,14592,1353,26567,236761,2187,31004,1271,562,1822,6511,607,21931,46119,532,151289,236761,107,236829,139,1018,53824,53121,12808,573,623,36425,563,506,7217,3730,236775,1271,993,659,1551,7516,12524,10103,2487,236761],\"total_duration\":7777288300,\"load_duration\":166419500,\"prompt_eval_count\":15,\"prompt_eval_duration\":116724600,\"eval_count\":430,\"eval_duration\":7493466900}\n"
     ]
    }
   ],
   "source": [
    "!curl -s http://localhost:11434/api/generate -d \"{\\\"model\\\": \\\"gemma3:1b\\\", \\\"prompt\\\": \\\"Why is the sky blue?\\\", \\\"stream\\\": false}\"\n"
   ]
  },
  {
   "cell_type": "code",
   "execution_count": 3,
   "id": "da1d3d7d",
   "metadata": {},
   "outputs": [
    {
     "name": "stdout",
     "output_type": "stream",
     "text": [
      "NAME         ID              SIZE      MODIFIED          \n",
      "gemma3:1b    8648f39daa8f    815 MB    About an hour ago    \n"
     ]
    }
   ],
   "source": [
    "!ollama list"
   ]
  },
  {
   "cell_type": "code",
   "execution_count": null,
   "id": "a4f1d55f",
   "metadata": {},
   "outputs": [],
   "source": []
  }
 ],
 "metadata": {
  "kernelspec": {
   "display_name": "ollama",
   "language": "python",
   "name": "python3"
  },
  "language_info": {
   "codemirror_mode": {
    "name": "ipython",
    "version": 3
   },
   "file_extension": ".py",
   "mimetype": "text/x-python",
   "name": "python",
   "nbconvert_exporter": "python",
   "pygments_lexer": "ipython3",
   "version": "3.10.18"
  }
 },
 "nbformat": 4,
 "nbformat_minor": 5
}
